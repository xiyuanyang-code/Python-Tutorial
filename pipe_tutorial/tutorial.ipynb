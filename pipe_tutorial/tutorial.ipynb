{
 "cells": [
  {
   "cell_type": "markdown",
   "id": "0c600e1b",
   "metadata": {},
   "source": [
    "# Pipe Tutorial"
   ]
  },
  {
   "cell_type": "markdown",
   "id": "886e29f6",
   "metadata": {},
   "source": [
    "## Pipe in Command Line\n",
    "\n",
    "In command line, **pipe** (`|`) is used to connect different commands, where the input of subsequent commands is the output of previous commands.\n",
    "\n",
    "For example, the commands below are basic demos of **pipe**:\n",
    "\n",
    "```bash\n",
    "# check how many commands of 'ls' you have typed in\n",
    "history | grep \"ls\" | wc -l\n",
    "\n",
    "# check several PID\n",
    "ps aux | grep \"zsh\"\n",
    "```"
   ]
  },
  {
   "cell_type": "code",
   "execution_count": null,
   "id": "1607dc7c",
   "metadata": {},
   "outputs": [],
   "source": [
    "!ps aux | grep \"zsh\" | wc -l"
   ]
  },
  {
   "cell_type": "markdown",
   "id": "f941b77f",
   "metadata": {},
   "source": [
    "## Pipe Coding in Python"
   ]
  },
  {
   "cell_type": "markdown",
   "id": "56549801",
   "metadata": {},
   "source": [
    "## Installation"
   ]
  },
  {
   "cell_type": "code",
   "execution_count": null,
   "id": "04bad1e6",
   "metadata": {},
   "outputs": [],
   "source": [
    "# using pip\n",
    "%pip install pipe "
   ]
  },
  {
   "cell_type": "code",
   "execution_count": null,
   "id": "f5ca22a8",
   "metadata": {},
   "outputs": [],
   "source": [
    "import pipe"
   ]
  },
  {
   "cell_type": "markdown",
   "id": "222ed168",
   "metadata": {},
   "source": [
    "## Basic Usage\n",
    "\n",
    "Official GitHub Repo: [Repo for Pipe](https://github.com/JulienPalard/Pipe)\n",
    "\n",
    "Website for pypi: [Pipe in pypi](https://pypi.org/project/pipe/)"
   ]
  },
  {
   "cell_type": "markdown",
   "id": "c66e0819",
   "metadata": {},
   "source": [
    "### Basic Syntax\n",
    "\n",
    "The same as what you use in the shell!"
   ]
  },
  {
   "cell_type": "code",
   "execution_count": null,
   "id": "c38af39d",
   "metadata": {},
   "outputs": [],
   "source": [
    "from itertools import count\n",
    "\n",
    "# itertools is a functional tools for creating and using iterators\n",
    "from pipe import select, take\n",
    "\n",
    "value = sum(count() | select(lambda x: x**2) | take(10))\n",
    "# or you can use range here!\n",
    "\n",
    "print(value)"
   ]
  },
  {
   "cell_type": "markdown",
   "id": "4622720d",
   "metadata": {},
   "source": [
    "You can pass **arguments** in an easier way."
   ]
  },
  {
   "cell_type": "code",
   "execution_count": null,
   "id": "54af61be",
   "metadata": {},
   "outputs": [],
   "source": [
    "from pipe import Pipe\n",
    "\n",
    "\n",
    "# a test function\n",
    "@Pipe\n",
    "def test_func(x):\n",
    "    print(f\"{x} is the input value\")\n",
    "    return x + 3\n",
    "\n",
    "\n",
    "if __name__ == \"__main__\":\n",
    "    print(5 | test_func)\n",
    "    # functional programming"
   ]
  },
  {
   "cell_type": "markdown",
   "id": "1f2f5631",
   "metadata": {},
   "source": [
    "Making it more complex..."
   ]
  },
  {
   "cell_type": "code",
   "execution_count": null,
   "id": "8dec1028",
   "metadata": {},
   "outputs": [],
   "source": [
    "from pipe import Pipe, where, select\n",
    "\n",
    "# we need to find all the square numbers from 1 to 100\n",
    "\n",
    "\n",
    "def square(x):\n",
    "    return x**2\n",
    "\n",
    "\n",
    "result = list(range(11) | select(square))\n",
    "print(result)"
   ]
  },
  {
   "cell_type": "markdown",
   "id": "5b8568df",
   "metadata": {},
   "source": [
    "> **generator** in Python\n",
    "\n",
    "Generators in Python offer significant advantages, primarily due to their **lazy evaluation** and **memory efficiency.** Unlike functions that return entire lists or other collections, generators yield one item at a time, on demand.\n",
    "\n",
    "This \"**yield-as-you-go**\" approach means that generators don't store all their values in memory simultaneously. For instance, when processing a massive dataset, a generator won't try to load everything at once, which could quickly exhaust your system's RAM. Instead, it computes and provides values only when requested, making them ideal for handling large or even infinite data streams without overwhelming memory resources.\n",
    "\n",
    "\n",
    "> **iterable** in Python\n",
    "\n",
    "If an object is iterable, it means it implements the __iter__ method (which returns an iterator) or the __getitem__ method (which allows access to elements by index, like lists do)."
   ]
  },
  {
   "cell_type": "markdown",
   "id": "3a169607",
   "metadata": {},
   "source": [
    "### `where` for filtering\n",
    "\n",
    "- `where(predicate)`: filter elements from iterable objects.\n",
    "\n",
    "`predicate` is a function which returns a bool value (true/false)."
   ]
  },
  {
   "cell_type": "code",
   "execution_count": null,
   "id": "abdb5e7d",
   "metadata": {},
   "outputs": [],
   "source": [
    "from pipe import where\n",
    "\n",
    "list_tobe_filtered = [1, 2, 3, 4, 5]\n",
    "\n",
    "print(list(list_tobe_filtered | where(lambda x: x % 2 == 0)))"
   ]
  },
  {
   "cell_type": "markdown",
   "id": "a2ba2392",
   "metadata": {},
   "source": [
    "Built-in filtering `dedup`:\n",
    "\n",
    "Deduplicate values, using the given key function if provided"
   ]
  },
  {
   "cell_type": "code",
   "execution_count": null,
   "id": "7242e60a",
   "metadata": {},
   "outputs": [],
   "source": [
    "from pipe import dedup\n",
    "\n",
    "original_data = [1, 2, 3, 4, 5, 6, 7, 7, 7, 8, 9, 9]\n",
    "print(list(original_data | dedup))"
   ]
  },
  {
   "cell_type": "markdown",
   "id": "9e973817",
   "metadata": {},
   "source": [
    "### `select` for selecting\n",
    "\n",
    "Choose a **mapping** function for every element in an iterable object.\n",
    "\n",
    "Quite similar to `forEach()` method for array in JavaScripts."
   ]
  },
  {
   "cell_type": "code",
   "execution_count": null,
   "id": "1d71ea53",
   "metadata": {},
   "outputs": [],
   "source": [
    "from pipe import Pipe, select, where\n",
    "\n",
    "# method-1: using lambda function\n",
    "numbers = [1, 2, 3, 4, 5]\n",
    "squares = list(numbers | select(lambda x: x**2))\n",
    "print(squares)\n",
    "\n",
    "\n",
    "# method-2: using function or decorator\n",
    "def square_number(x):\n",
    "    return x**2\n",
    "\n",
    "\n",
    "squares_2 = numbers | select(square_number)\n",
    "# squares_2 is a map! (lazy evaluation and supports iteration)\n",
    "\n",
    "print(list(squares_2))"
   ]
  },
  {
   "cell_type": "markdown",
   "id": "fad80e1d",
   "metadata": {},
   "source": [
    "Or you can using the `map` function, just like javascripts!"
   ]
  },
  {
   "cell_type": "code",
   "execution_count": null,
   "id": "7e9ad8c8",
   "metadata": {},
   "outputs": [],
   "source": [
    "# for single map: it need to support 2 arguments\n",
    "# print(list([1,2,3,4] | map(lambda x: x**2))): this will cause error\n",
    "# right way to do so:\n",
    "\n",
    "print(list(map((lambda x: x**2), [1, 2, 3, 4, 5])))\n",
    "\n",
    "from pipe import map\n",
    "\n",
    "print(list([1, 2, 3, 4, 5] | map(lambda x: x**2)))\n",
    "\n",
    "# just choose one you like\n",
    "# !pay attention to the name conflict"
   ]
  },
  {
   "cell_type": "markdown",
   "id": "9667b60f",
   "metadata": {},
   "source": [
    "## Choosing elements\n",
    "\n",
    "- `take(n)`: take the first `n` elements from the iterable objects, like the `head` command in Shell scripts\n",
    "\n",
    "- `skip(n)`: skip the first `n` elements from the iterable objects\n",
    "\n",
    "- `skip_while(predicate)`: using a predicate function to skip certain objects\n"
   ]
  },
  {
   "cell_type": "markdown",
   "id": "28bd4de8",
   "metadata": {},
   "source": [
    "### `groupby` method\n",
    "\n",
    "Using `groupby(key_selector)` to select all the elements by groups."
   ]
  },
  {
   "cell_type": "code",
   "execution_count": null,
   "id": "2a6d7e4a",
   "metadata": {},
   "outputs": [],
   "source": [
    "from pipe import groupby\n",
    "\n",
    "numbers = [1, 2, 3, 4, 5, 6]\n",
    "grouped = numbers | groupby(lambda x: \"even\" if x % 2 == 0 else \"odd\")\n",
    "\n",
    "for key, group in grouped:\n",
    "    print(f\"{key}: {list(group)}\")"
   ]
  },
  {
   "cell_type": "markdown",
   "id": "d5814353",
   "metadata": {},
   "source": [
    "### Traversing\n",
    "\n",
    "Using `traverse` in Pipe to traverse an iterable object."
   ]
  },
  {
   "cell_type": "code",
   "execution_count": null,
   "id": "ddb7461f",
   "metadata": {},
   "outputs": [],
   "source": [
    "from pipe import traverse\n",
    "\n",
    "numbers = [1, 2, [3, [4, 5, 6], 5], 4, 5]\n",
    "\n",
    "for i in numbers | traverse:\n",
    "    print(i)"
   ]
  },
  {
   "cell_type": "markdown",
   "id": "3817cba2",
   "metadata": {},
   "source": [
    "## Chaining\n",
    "\n",
    "Chaining a sequence of iterable objects.\n",
    "\n",
    "> Warning : chain only unfolds an iterable containing ONLY iterables:"
   ]
  },
  {
   "cell_type": "code",
   "execution_count": null,
   "id": "d58cd991",
   "metadata": {},
   "outputs": [],
   "source": [
    "from pipe import chain, traverse\n",
    "\n",
    "array_1 = [1, 2, 3, 4, 5]\n",
    "array_2 = [3, 4, [5, 6, 7, 8], 6]\n",
    "array_3 = [\"alice\", \"jim\", \"tom\"]\n",
    "\n",
    "integrated = list([array_1, array_2, array_3] | chain)\n",
    "\n",
    "for i in integrated | traverse:\n",
    "    print(i)"
   ]
  },
  {
   "cell_type": "markdown",
   "id": "29aa607c",
   "metadata": {},
   "source": [
    "## Other commands\n",
    "\n",
    "- `islice`: slice for iterable objects, which is the same as `itertools.islice`.\n",
    "\n",
    "- `izip`: zipping like `izip` or `zip` in Python 3.\n",
    "\n",
    "We do not need to load all the elements into the RAM, instead, it will slice (`start:stop:step`) and return a new iterator.\n",
    "\n",
    "- `tee`: tee outputs to the standard output and yield unchanged items, useful for debugging a pipe stage by stage:"
   ]
  },
  {
   "cell_type": "code",
   "execution_count": null,
   "id": "8f8a6906",
   "metadata": {},
   "outputs": [],
   "source": [
    "from pipe import islice, izip\n",
    "\n",
    "print(list((1, 2, 3, 4, 5, 6, 7, 8, 9) | islice(1, 100, 2)))\n",
    "print(list([1, 2, 3, 4, 5] | izip([2, 3, 4, 5, 6])))"
   ]
  },
  {
   "cell_type": "code",
   "execution_count": null,
   "id": "a0faf422",
   "metadata": {},
   "outputs": [],
   "source": [
    "from pipe import tee\n",
    "\n",
    "list([1,2,3,4,5] | tee)"
   ]
  },
  {
   "cell_type": "markdown",
   "id": "6b363e7d",
   "metadata": {},
   "source": [
    "## Creating my own Pipes\n",
    "\n",
    "Using the `Pipe` class.\n",
    "\n",
    "```python\n",
    "class Pipe:\n",
    "    \"\"\"\n",
    "    Represent a Pipeable Element :\n",
    "    Described as :\n",
    "    first = Pipe(lambda iterable: next(iter(iterable)))\n",
    "    and used as :\n",
    "    print [1, 2, 3] | first\n",
    "    printing 1\n",
    "\n",
    "    Or represent a Pipeable Function :\n",
    "    It's a function returning a Pipe\n",
    "    Described as :\n",
    "    select = Pipe(lambda iterable, pred: (pred(x) for x in iterable))\n",
    "    and used as :\n",
    "    print [1, 2, 3] | select(lambda x: x * 2)\n",
    "    # 2, 4, 6\n",
    "    \"\"\"\n",
    "\n",
    "    def __init__(self, function, *args, **kwargs):\n",
    "        self.function = lambda iterable, *args2, **kwargs2: function(\n",
    "            iterable, *args, *args2, **kwargs, **kwargs2\n",
    "        )\n",
    "        functools.update_wrapper(self, function)\n",
    "\n",
    "    def __ror__(self, other):\n",
    "        return self.function(other)\n",
    "\n",
    "    def __call__(self, *args, **kwargs):\n",
    "        return Pipe(\n",
    "            lambda iterable, *args2, **kwargs2: self.function(\n",
    "                iterable, *args, *args2, **kwargs, **kwargs2\n",
    "            )\n",
    "        )\n",
    "```"
   ]
  },
  {
   "cell_type": "code",
   "execution_count": null,
   "id": "996d2dab",
   "metadata": {},
   "outputs": [],
   "source": [
    "from pipe import Pipe\n",
    "\n",
    "# you need to pass in a necessary function variables\n",
    "square = Pipe(lambda iterable: (x ** 2 for x in iterable))"
   ]
  }
 ],
 "metadata": {
  "kernelspec": {
   "display_name": "base",
   "language": "python",
   "name": "python3"
  },
  "language_info": {
   "codemirror_mode": {
    "name": "ipython",
    "version": 3
   },
   "file_extension": ".py",
   "mimetype": "text/x-python",
   "name": "python",
   "nbconvert_exporter": "python",
   "pygments_lexer": "ipython3",
   "version": "3.12.2"
  }
 },
 "nbformat": 4,
 "nbformat_minor": 5
}
