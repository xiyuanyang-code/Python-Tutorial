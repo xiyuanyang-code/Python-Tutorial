{
 "cells": [
  {
   "cell_type": "markdown",
   "id": "8d07f3f0",
   "metadata": {},
   "source": [
    "# Tutorial for Scraping\n",
    "\n",
    "Beautiful Soup is a Python library for pulling data out of HTML and XML files. It works with your favorite parser to provide idiomatic ways of navigating, searching, and modifying the parse tree. It commonly saves programmers hours or days of work.\n",
    "\n",
    "- XML (Extensible Markup Language)\n",
    "\n",
    "```xml\n",
    "<?xml version=\"1.0\" encoding=\"UTF-8\"?>\n",
    "<bookstore>\n",
    "  <book category=\"cooking\">\n",
    "    <title lang=\"en\">Everyday Italian</title>\n",
    "    <author>Giada De Laurentiis</author>\n",
    "    <year>2005</year>\n",
    "    <price>30.00</price>\n",
    "  </book>\n",
    "  <book category=\"children\">\n",
    "    <title lang=\"en\">Harry Potter</title>\n",
    "    <author>J.K. Rowling</author>\n",
    "    <year>2005</year>\n",
    "    <price>29.99</price>\n",
    "  </book>\n",
    "</bookstore>\n",
    "```\n",
    "\n",
    "- HTML (HyperText Markup Language)\n",
    "\n",
    "```html\n",
    "<!DOCTYPE html>\n",
    "<html>\n",
    "<head>\n",
    "  <title>我的书店</title>\n",
    "  <style>\n",
    "    body { font-family: Arial, sans-serif; margin: 20px; }\n",
    "    h1 { color: #333; }\n",
    "    .book { border: 1px solid #ccc; padding: 15px; margin-bottom: 10px; }\n",
    "    .book strong { color: #007bff; }\n",
    "  </style>\n",
    "</head>\n",
    "<body>\n",
    "\n",
    "  <h1>我的书店</h1>\n",
    "\n",
    "  <div class=\"book\">\n",
    "    <h2>书名：Everyday Italian (英文)</h2>\n",
    "    <p><strong>作者：</strong> Giada De Laurentiis</p>\n",
    "    <p><strong>出版年份：</strong> 2005</p>\n",
    "    <p><strong>价格：</strong> $30.00</p>\n",
    "  </div>\n",
    "\n",
    "  <div class=\"book\">\n",
    "    <h2>书名：Harry Potter (英文)</h2>\n",
    "    <p><strong>作者：</strong> J.K. Rowling</p>\n",
    "    <p><strong>出版年份：</strong> 2005</p>\n",
    "    <p><strong>价格：</strong> $29.99</p>\n",
    "  </div>\n",
    "\n",
    "</body>\n",
    "</html>\n",
    "```"
   ]
  },
  {
   "cell_type": "markdown",
   "id": "136e10cb",
   "metadata": {},
   "source": [
    "## Quick Setup\n",
    "\n",
    "Before using `bs4` to scrap, let us start up quickly to parse an HTML file locally!"
   ]
  },
  {
   "cell_type": "code",
   "execution_count": null,
   "id": "1086f7d6",
   "metadata": {},
   "outputs": [],
   "source": [
    "file_path = \"./demo.html\"\n",
    "\n",
    "with open(file_path, \"r\") as file:\n",
    "    html_content: str = file.read()\n",
    "    file.close()\n"
   ]
  },
  {
   "cell_type": "code",
   "execution_count": null,
   "id": "15d15c89",
   "metadata": {},
   "outputs": [],
   "source": [
    "from bs4 import BeautifulSoup\n",
    "soup = BeautifulSoup(html_content, 'html.parser')\n",
    "\n",
    "print(soup.prettify())\n",
    "# Prints the values to a stream, or to sys.stdout by default."
   ]
  },
  {
   "cell_type": "markdown",
   "id": "e8e4e478",
   "metadata": {},
   "source": [
    "Then, you can almost do whatever you can do in `JavaScripts`!"
   ]
  },
  {
   "cell_type": "code",
   "execution_count": null,
   "id": "65daf02a",
   "metadata": {},
   "outputs": [],
   "source": [
    "print(f\"The tile is {soup.title}\")\n",
    "# The tile is <title>The Dormouse's story</title>\n",
    "\n",
    "# to make it prettier\n",
    "print(f\"The tile is {soup.title.get_text()}\")\n",
    "\n",
    "# equivalent to this:\n",
    "print(soup.find(\"title\"))\n",
    "print(soup.find(\"title\").get_text())\n",
    "\n",
    "# find all content\n",
    "result = list(soup.find_all(\"p\"))\n",
    "print(len(result))\n",
    "print(result[1].get_text())\n",
    "\n",
    "# get all the text\n",
    "print(soup.get_text())"
   ]
  },
  {
   "cell_type": "markdown",
   "id": "75f95662",
   "metadata": {},
   "source": [
    "## Parser\n",
    "\n",
    "| Parser          | Typical usage                          | Advantages                                                                   | Disadvantages                                     |\n",
    "| :-------------- | :------------------------------------- | :--------------------------------------------------------------------------- | :------------------------------------------------ |\n",
    "| Python's html.parser | `BeautifulSoup(markup, \"html.parser\")` | - Batteries included <br> - Decent speed                                       | - Not as fast as lxml, less lenient than html5lib. |\n",
    "| lxml's HTML parser | `BeautifulSoup(markup, \"lxml\")`        | - Very fast                                                                  | - External C dependency                           |\n",
    "| lxml's XML parser  | `BeautifulSoup(markup, \"lxml-xml\")` <br> `BeautifulSoup(markup, \"xml\")` | - Very fast <br> - The only currently supported XML parser                     | - External C dependency                           |\n",
    "| html5lib        | `BeautifulSoup(markup, \"html5lib\")`    | - Extremely lenient <br> - Parses pages the same way a web browser does <br> - Creates valid HTML5 | - Very slow <br> - External Python dependency     |"
   ]
  },
  {
   "cell_type": "markdown",
   "id": "22da49d7",
   "metadata": {},
   "source": [
    "## Kind of Objects\n",
    "\n",
    "### `tag`\n",
    "\n",
    "- `tag`: The same in JavaScripts. A Tag object corresponds to an XML or HTML tag in the original document."
   ]
  },
  {
   "cell_type": "code",
   "execution_count": null,
   "id": "953045f7",
   "metadata": {},
   "outputs": [],
   "source": [
    "with open(file_path, \"r\") as file:\n",
    "    soup_2 = BeautifulSoup(file, \"html.parser\")\n",
    "\n",
    "tag = soup_2.find(\"p\")\n",
    "\n",
    "# several info messages for this tag\n",
    "print(tag)\n",
    "print(type(tag))\n",
    "print(tag.name)\n",
    "\n",
    "# attrs\n",
    "# it will return a dict\n",
    "print(tag.attrs)\n",
    "print(tag.attrs.keys())\n",
    "\n",
    "# when not found, this will throw an error\n",
    "print(tag[\"id\"])\n",
    "print(tag[\"class\"])\n",
    "\n",
    "# you can change the settings of the tag!\n",
    "tag.name = \"changed_tag_name\"\n",
    "print(tag)\n",
    "\n",
    "# changing the attrs\n",
    "tag['id'] = 'verybold'\n",
    "tag['another-attribute'] = 1\n",
    "print(tag.attrs)\n",
    "print(soup_2.prettify())\n",
    "\n",
    "# print(soup_2)\n",
    "# # write back to the original file\n",
    "# with open(file_path, \"w\", encoding=\"utf-8\") as file:\n",
    "#     # write the new str\n",
    "#     file.write(soup_2.prettify())"
   ]
  },
  {
   "cell_type": "markdown",
   "id": "055be5b3",
   "metadata": {},
   "source": [
    "### class NavigableString\n",
    "\n",
    "A tag can contain strings as pieces of text. Beautiful Soup uses the `NavigableString` class to contain these pieces of text:"
   ]
  },
  {
   "cell_type": "code",
   "execution_count": null,
   "id": "9222cbf8",
   "metadata": {},
   "outputs": [],
   "source": [
    "print(tag.string)"
   ]
  },
  {
   "cell_type": "code",
   "execution_count": null,
   "id": "fc5c9d7b",
   "metadata": {},
   "outputs": [],
   "source": [
    "soup_3 = BeautifulSoup(\"<p>Welcome<b>Hello</b>text</p>\", \"html.parser\")\n",
    "\n",
    "tag_3 = soup_3.find(\"b\")\n",
    "print(tag_3.string)\n",
    "\n",
    "tag_3.string.replace_with(\"test\")\n",
    "\n",
    "print(tag_3)"
   ]
  },
  {
   "cell_type": "markdown",
   "id": "bc0d27a6",
   "metadata": {},
   "source": [
    "### Navigating the DOM Tree\n",
    "\n",
    "You can use the `.children` and `.contents` for navigating."
   ]
  },
  {
   "cell_type": "code",
   "execution_count": 65,
   "id": "bde17a72",
   "metadata": {},
   "outputs": [
    {
     "name": "stdout",
     "output_type": "stream",
     "text": [
      "<a class=\"sister\" href=\"http://example.com/elsie\" id=\"link1\">Elsie</a>\n",
      "['Elsie']\n",
      "<p class=\"story\">Once upon a time there were three little sisters; and their names were\n",
      "        <a class=\"sister\" href=\"http://example.com/elsie\" id=\"link1\">Elsie</a>\n",
      "<a class=\"sister\" href=\"http://example.com/lacie\" id=\"link2\">Lacie</a>\n",
      "<a class=\"sister\" href=\"http://example.com/tillie\" id=\"link3\">Tillie</a>\n",
      "        and they lived at the bottom of a well.\n",
      "    </p>\n"
     ]
    }
   ],
   "source": [
    "soup_2\n",
    "\n",
    "find_a = soup_2.find(\"a\")\n",
    "print(find_a)\n",
    "print(find_a.contents)\n",
    "\n",
    "print(find_a.parent)"
   ]
  }
 ],
 "metadata": {
  "kernelspec": {
   "display_name": "base",
   "language": "python",
   "name": "python3"
  },
  "language_info": {
   "codemirror_mode": {
    "name": "ipython",
    "version": 3
   },
   "file_extension": ".py",
   "mimetype": "text/x-python",
   "name": "python",
   "nbconvert_exporter": "python",
   "pygments_lexer": "ipython3",
   "version": "3.12.2"
  }
 },
 "nbformat": 4,
 "nbformat_minor": 5
}
