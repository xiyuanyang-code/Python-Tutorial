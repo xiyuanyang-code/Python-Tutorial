{
 "cells": [
  {
   "cell_type": "markdown",
   "id": "15df6f20",
   "metadata": {},
   "source": [
    "# Iterable and Functional Programming\n",
    "\n",
    "Today we will introduce Pythonic!\n",
    "\n",
    "## Iterable"
   ]
  },
  {
   "cell_type": "code",
   "execution_count": null,
   "id": "6292e435",
   "metadata": {},
   "outputs": [],
   "source": [
    "ilst = iter([\"2\", \"3\", \"4\", 3, 5])\n",
    "\n",
    "for i in range(5):\n",
    "    print(ilst.__next__())"
   ]
  },
  {
   "cell_type": "code",
   "execution_count": null,
   "id": "67afc5f8",
   "metadata": {},
   "outputs": [],
   "source": [
    "ilst = iter(\"SJTU\")\n",
    "print(ilst)\n",
    "\n",
    "for i in range(4):\n",
    "    print(ilst.__next__())"
   ]
  },
  {
   "cell_type": "code",
   "execution_count": null,
   "id": "0706e83b",
   "metadata": {},
   "outputs": [],
   "source": [
    "test_dict = iter({1: 1, 2: 2, 4: 45, 5: 5})\n",
    "\n",
    "for i in range(4):\n",
    "    print(test_dict.__next__())"
   ]
  },
  {
   "cell_type": "code",
   "execution_count": null,
   "id": "889d712c",
   "metadata": {},
   "outputs": [],
   "source": [
    "test_tuple = iter(tuple((1, 2, 3, 5, 6, 7)))\n",
    "\n",
    "for i in range(6):\n",
    "    print(test_tuple.__next__())"
   ]
  },
  {
   "cell_type": "code",
   "execution_count": null,
   "id": "4caaf21f",
   "metadata": {},
   "outputs": [],
   "source": [
    "my_list = [1, 2, 3]\n",
    "my_iterator = iter(my_list)  # 从可迭代对象中获取迭代器\n",
    "\n",
    "print(next(my_iterator))  # 输出: 1\n",
    "print(next(my_iterator))  # 输出: 2\n",
    "print(next(my_iterator))  # 输出: 3\n",
    "\n",
    "# 尝试获取第四个元素\n",
    "try:\n",
    "    print(next(my_iterator))\n",
    "except StopIteration:\n",
    "    print(\"Caught StopIteration: No more elements in the iterator.\")"
   ]
  },
  {
   "cell_type": "markdown",
   "id": "af0cc193",
   "metadata": {},
   "source": [
    "### Custom Iterator\n",
    "\n",
    "You need to implement `__iter__()` and `__next__()` by yourself."
   ]
  },
  {
   "cell_type": "code",
   "execution_count": null,
   "id": "dda1177a",
   "metadata": {},
   "outputs": [],
   "source": [
    "class Mynumber:\n",
    "    def __init__(self, init_number, increasing_round) -> None:\n",
    "        self.num = init_number\n",
    "        self.bound = increasing_round + init_number\n",
    "\n",
    "    def __iter__(self):\n",
    "        # initialize a iterator\n",
    "        print(f\"__iter__ is called, now the value is {self.num}\")\n",
    "        # !attention, it need to return self\n",
    "        return self\n",
    "\n",
    "    def __next__(self):\n",
    "        if self.num < self.bound:\n",
    "            value = self.num\n",
    "            self.num += 1\n",
    "            return value\n",
    "        else:\n",
    "            raise StopIteration"
   ]
  },
  {
   "cell_type": "code",
   "execution_count": null,
   "id": "3afb50c3",
   "metadata": {},
   "outputs": [],
   "source": [
    "test_number = Mynumber(10, 4)\n",
    "\n",
    "for x in test_number:\n",
    "    print(x)"
   ]
  },
  {
   "cell_type": "code",
   "execution_count": null,
   "id": "9381c716",
   "metadata": {},
   "outputs": [],
   "source": [
    "a, b, c, *other = {1: 2, 3: 4, 5: 7, 9: 1, 10: 10}\n",
    "print(a)\n",
    "print(b)\n",
    "print(c)\n",
    "print(other)"
   ]
  },
  {
   "cell_type": "code",
   "execution_count": null,
   "id": "32917d85",
   "metadata": {},
   "outputs": [],
   "source": [
    "i = 0\n",
    "L = [1, 2, 3]\n",
    "i, L[i] = L[i], i\n",
    "print(i, L)"
   ]
  },
  {
   "cell_type": "code",
   "execution_count": null,
   "id": "5aaeb2ca",
   "metadata": {},
   "outputs": [],
   "source": [
    "import itertools\n",
    "\n",
    "list_1 = [1, 3, 4, 5]\n",
    "list_2 = [\"alice\", \"tom\", \"bob\", \"warning\"]\n",
    "\n",
    "print(list(itertools.product(list_1, list_2)))"
   ]
  },
  {
   "cell_type": "code",
   "execution_count": null,
   "id": "abe9e513",
   "metadata": {},
   "outputs": [],
   "source": [
    "import itertools\n",
    "\n",
    "print(list(itertools.permutations(list_2)))"
   ]
  },
  {
   "cell_type": "code",
   "execution_count": null,
   "id": "4e057fd4",
   "metadata": {},
   "outputs": [],
   "source": [
    "import itertools\n",
    "\n",
    "items = [\"A\", \"B\", \"C\", \"D\"]\n",
    "print(list(itertools.combinations(items, 2)))"
   ]
  },
  {
   "cell_type": "markdown",
   "id": "b15cb641",
   "metadata": {},
   "source": [
    "## PEP 636\n",
    "\n",
    "The usage of `match` and `case`."
   ]
  },
  {
   "cell_type": "code",
   "execution_count": null,
   "id": "20f09b5c",
   "metadata": {},
   "outputs": [],
   "source": [
    "input_command = \"Hello world, this is xiyuanyang speaking \"\n",
    "\n",
    "print(input_command.strip())\n",
    "\n",
    "[action, *obj] = input_command.split()\n",
    "\n",
    "print(input_command.split())\n",
    "print(obj)\n",
    "print(action)"
   ]
  },
  {
   "cell_type": "code",
   "execution_count": null,
   "id": "9b0f3afb",
   "metadata": {},
   "outputs": [],
   "source": [
    "test_input = str(\"Hello, this is xiyuanyang's speaking\").strip()\n",
    "\n",
    "match test_input.split():\n",
    "    case [single_action]:\n",
    "        print(\"Wow, it is single!\")\n",
    "    case [obj_1, obj_2]:\n",
    "        print(\"two\")\n",
    "    case [obj_3, onj_4, onj_5]:\n",
    "        print(\"three\")\n",
    "    case [test1, *test2]:\n",
    "        print(\"wow\")\n",
    "    case _:\n",
    "        print(\"Final\")"
   ]
  },
  {
   "cell_type": "code",
   "execution_count": null,
   "id": "4baf192d",
   "metadata": {},
   "outputs": [],
   "source": [
    "command = \"go west\"\n",
    "match command.split():\n",
    "    case [\"quit\"]:\n",
    "        print(\"Goodbye!\")\n",
    "    case [\"look\"]:\n",
    "        print(\"look\")\n",
    "    case [\"get\", obj]:\n",
    "        print(\"get\")\n",
    "    case [\"go\", direction]:\n",
    "        print(\"go\")\n",
    "    # The rest of your commands go here"
   ]
  },
  {
   "cell_type": "markdown",
   "id": "c668b5e9",
   "metadata": {},
   "source": [
    "## List Comprehension"
   ]
  },
  {
   "cell_type": "code",
   "execution_count": null,
   "id": "7543ed5f",
   "metadata": {},
   "outputs": [],
   "source": [
    "import time\n",
    "\n",
    "\n",
    "total_num = 8000000\n",
    "\n",
    "# for simple while_loop\n",
    "time_start = time.time()\n",
    "list_1 = []\n",
    "for i in range(total_num):\n",
    "    list_1.append(i * i)\n",
    "time_end = time.time()\n",
    "print(f\"Time for single for loop: {time_end - time_start}\")\n",
    "\n",
    "time_start = time.time()\n",
    "list_2 = [i * i for i in range(total_num)]\n",
    "time_end = time.time()\n",
    "print(f\"Time for list comprehension: {time_end - time_start}\")\n",
    "\n",
    "assert list_1 == list_2"
   ]
  },
  {
   "cell_type": "code",
   "execution_count": null,
   "id": "b0c573cb",
   "metadata": {},
   "outputs": [],
   "source": [
    "def my_generator():\n",
    "    n = 1\n",
    "    print(\"This is the first print\")\n",
    "    yield n\n",
    "\n",
    "    n += 1\n",
    "    print(\"This is the second print\")\n",
    "    yield n\n",
    "\n",
    "    n += 1\n",
    "    print(\"This is the third print\")\n",
    "    yield n\n",
    "\n",
    "\n",
    "# 创建生成器对象\n",
    "gen = my_generator()\n",
    "\n",
    "# 每次调用 next() 都会执行到下一个 yield\n",
    "print(next(gen))  # 输出: This is the first print \\n 1\n",
    "print(next(gen))  # 输出: This is the second print \\n 2\n",
    "print(next(gen))  # 输出: This is the third print \\n 3\n",
    "\n",
    "# 再次调用 next() 会触发 StopIteration\n",
    "try:\n",
    "    print(next(gen))\n",
    "except StopIteration:\n",
    "    print(\"No more values from generator.\")"
   ]
  },
  {
   "cell_type": "code",
   "execution_count": null,
   "id": "604acb9c",
   "metadata": {},
   "outputs": [],
   "source": [
    "def gene_squares(N: int):\n",
    "    for i in range(N):\n",
    "        yield i * i\n",
    "\n",
    "\n",
    "for i in gene_squares(5):\n",
    "    # 此处调用for循环本身就是调用迭代器的__next__()属性\n",
    "    print(f\"i is {i}\")"
   ]
  },
  {
   "cell_type": "code",
   "execution_count": null,
   "id": "ccf7ce3e",
   "metadata": {},
   "outputs": [],
   "source": [
    "lst_1 = [x**2 for x in range(20)]\n",
    "print(lst_1)\n",
    "\n",
    "lst_2 = (x**2 for x in range(20))\n",
    "print(lst_2)\n",
    "\n",
    "lst_3 = {x: x**2 for x in range(20)}\n",
    "print(type(lst_3))\n",
    "print(set(lst_3))"
   ]
  },
  {
   "cell_type": "markdown",
   "id": "dfbd9839",
   "metadata": {},
   "source": [
    "## Functional Programming"
   ]
  },
  {
   "cell_type": "code",
   "execution_count": null,
   "id": "a118ce88",
   "metadata": {},
   "outputs": [],
   "source": [
    "def func(va_test=1):\n",
    "    \"\"\"doc string\"\"\"\n",
    "    print(va_test)\n",
    "\n",
    "\n",
    "func.greetings = \"Hello\"\n",
    "\n",
    "print(func.__dict__)\n",
    "print(func.__class__)\n",
    "print(func.__code__)\n",
    "print(func.__name__)\n",
    "print(func.__defaults__)\n",
    "print(func.__hash__)\n",
    "print(func.__doc__)"
   ]
  },
  {
   "cell_type": "code",
   "execution_count": null,
   "id": "5b4e025a",
   "metadata": {},
   "outputs": [],
   "source": [
    "def make(N):\n",
    "    def action(x):\n",
    "        return x**N\n",
    "\n",
    "    return action\n",
    "\n",
    "\n",
    "# it is a factory\n",
    "result = [(make(mke_func))(input) for mke_func in [1, 2, 3] for input in [1, 2, 3]]\n",
    "print(result)"
   ]
  },
  {
   "cell_type": "markdown",
   "id": "65a19fe9",
   "metadata": {},
   "source": [
    "### `map`\n",
    "\n",
    "`map(function, iterable)`: It is equivalent to `for x in iterable: f(x)`, but returning a map.\n",
    "\n",
    "- Return an iterator that applies functions to every item of this iterable, **yielding** the result.\n"
   ]
  },
  {
   "cell_type": "code",
   "execution_count": null,
   "id": "2f1ccbcb",
   "metadata": {},
   "outputs": [],
   "source": [
    "def test_function(a):\n",
    "    return a + a\n",
    "\n",
    "numbers = list(range(10))\n",
    "\n",
    "result = list(map(test_function, numbers))\n",
    "print(result)"
   ]
  },
  {
   "cell_type": "markdown",
   "id": "9f7a0109",
   "metadata": {},
   "source": [
    "A map is an **iterator** which can be iterated, which is different from a list."
   ]
  },
  {
   "cell_type": "code",
   "execution_count": null,
   "id": "2fd5fdf0",
   "metadata": {},
   "outputs": [],
   "source": [
    "# the usage of map as an iterator\n",
    "\n",
    "result_2 = map(test_function, numbers)\n",
    "\n",
    "print(result_2.__iter__() == result_2)\n",
    "try:\n",
    "    for i in range(11):\n",
    "        print(f\"Value is {result_2.__next__()}\")\n",
    "except StopIteration:\n",
    "    print(\"The iteration has stopped\")"
   ]
  },
  {
   "cell_type": "markdown",
   "id": "f75eace3",
   "metadata": {},
   "source": [
    "### `filter`\n",
    "\n",
    "`filter(function, iterable)`: select the element `x` where `function(x)` is True.\n",
    "\n",
    "Construct an **iterator** from those elements of iterable for which function returns true. iterable may be either a sequence, a container which supports iteration, or an iterator. If function is None, the identity function is assumed, that is, all elements of iterable that are false are removed."
   ]
  },
  {
   "cell_type": "code",
   "execution_count": null,
   "id": "e631fb7c",
   "metadata": {},
   "outputs": [],
   "source": [
    "def is_happy(x):\n",
    "    if x % 2 == 0:\n",
    "        return True\n",
    "    else:\n",
    "        return False\n",
    "\n",
    "result_3 = filter(is_happy, range(1, 11))\n",
    "print(list(result_3))\n",
    "\n",
    "result_3 = filter(is_happy, range(1, 11))\n",
    "try:\n",
    "    for i in range(11):\n",
    "        print(f\"Value is {result_3.__next__()}\")\n",
    "except StopIteration:\n",
    "    print(\"Stop Iteration\")"
   ]
  },
  {
   "cell_type": "markdown",
   "id": "1f8c27c9",
   "metadata": {},
   "source": [
    "### `Reduce`\n",
    "\n",
    "- The `reduce(fun, iterable)` function is used to apply a particular function passed in its argument to **all of the list elements mentioned in the sequence passed along**.\n",
    "\n",
    "- This function is defined in `functools` module\n",
    "\n",
    "- The same in JavaScripts.\n",
    "\n",
    "\n",
    "params: `reduce(function, iterable, initial)`:\n",
    "\n",
    "- If `initial` is given as $x_{\\text{ini}}$:\n",
    "\n",
    "    - $y_0 = f(x_{\\text{ini}}, x_0)$, where $x_0$ is the first value in the iterable object.\n",
    "\n",
    "    - $y_1 = f(y_0, x_1), y_2 = f(y_1, x_2), \\dots , y_{n-1} = f(y_{n-2}, x_{n-1})$, **the iteration**!\n",
    "\n",
    "    - The return value is $y_{n-1}$.\n",
    "\n",
    "- If `initial` is not given:\n",
    "\n",
    "    - $y_0 = f(x_0, x_1), y_1 = f(y_0, x_2), \\dots , y_{n-2} = f(y_{n-3}, x_{n-1})$.\n",
    "\n",
    "    - The return value is $y_{n-2}$."
   ]
  },
  {
   "cell_type": "code",
   "execution_count": null,
   "id": "71568206",
   "metadata": {},
   "outputs": [],
   "source": [
    "from functools import reduce\n",
    "\n",
    "\n",
    "def my_add(a, b):\n",
    "    print(f\"Value: {a} + {b} = {a + b}\")\n",
    "    return a + b\n",
    "\n",
    "ini_list = list(range(30, 50))\n",
    "result = reduce(my_add, ini_list, 0)\n",
    "print(result)\n",
    "\n",
    "# Value: 0 + 30 = 30\n",
    "# Value: 30 + 31 = 61\n",
    "# Value: 61 + 32 = 93\n",
    "# Value: 93 + 33 = 126\n",
    "# Value: 126 + 34 = 160\n",
    "# Value: 160 + 35 = 195\n",
    "# Value: 195 + 36 = 231\n",
    "# Value: 231 + 37 = 268\n",
    "# Value: 268 + 38 = 306\n",
    "# Value: 306 + 39 = 345\n",
    "# Value: 345 + 40 = 385\n",
    "# Value: 385 + 41 = 426\n",
    "# Value: 426 + 42 = 468\n",
    "# Value: 468 + 43 = 511\n",
    "# Value: 511 + 44 = 555\n",
    "# Value: 555 + 45 = 600\n",
    "# Value: 600 + 46 = 646\n",
    "# Value: 646 + 47 = 693\n",
    "# Value: 693 + 48 = 741\n",
    "# Value: 741 + 49 = 790\n",
    "# 790"
   ]
  },
  {
   "cell_type": "markdown",
   "id": "fabc3490",
   "metadata": {},
   "source": [
    "## LEGB"
   ]
  },
  {
   "cell_type": "code",
   "execution_count": 23,
   "id": "5e91722f",
   "metadata": {},
   "outputs": [
    {
     "name": "stdout",
     "output_type": "stream",
     "text": [
      "x is hello\n",
      "y is welcome\n",
      "x is hello\n",
      "y is welcome to the inner\n",
      "x is hello\n",
      "y is welcome to the inner\n"
     ]
    }
   ],
   "source": [
    "def outer():\n",
    "    x = \"hello\"\n",
    "    y = \"welcome\"\n",
    "    print(f\"x is {x}\")\n",
    "    print(f\"y is {y}\")\n",
    "\n",
    "    def inner():\n",
    "        nonlocal y\n",
    "        y = \"welcome to the inner\"\n",
    "        print(f\"x is {x}\")\n",
    "        print(f\"y is {y}\")\n",
    "    \n",
    "    inner()\n",
    "    print(f\"x is {x}\")\n",
    "    print(f\"y is {y}\")\n",
    "\n",
    "outer()"
   ]
  },
  {
   "cell_type": "code",
   "execution_count": 28,
   "id": "fbf86fe3",
   "metadata": {},
   "outputs": [
    {
     "name": "stdout",
     "output_type": "stream",
     "text": [
      "tt\n",
      "g2. tt\n",
      "g2. g2\n",
      "g2\n",
      "gg\n"
     ]
    }
   ],
   "source": [
    "x = \"test\"\n",
    "def g1():\n",
    "    def g2():\n",
    "        nonlocal x\n",
    "        # global x\n",
    "        print(\"g2. {}\".format(x))\n",
    "        x = \"g2\"\n",
    "        print(\"g2. {}\".format(x))\n",
    "\n",
    "    # global x\n",
    "    x = \"tt\"\n",
    "\n",
    "    print(x)\n",
    "    g2()\n",
    "    print(x)\n",
    "    x = \"gg\"\n",
    "    print(x)\n",
    "\n",
    "g1()"
   ]
  }
 ],
 "metadata": {
  "kernelspec": {
   "display_name": "base",
   "language": "python",
   "name": "python3"
  },
  "language_info": {
   "codemirror_mode": {
    "name": "ipython",
    "version": 3
   },
   "file_extension": ".py",
   "mimetype": "text/x-python",
   "name": "python",
   "nbconvert_exporter": "python",
   "pygments_lexer": "ipython3",
   "version": "3.12.2"
  }
 },
 "nbformat": 4,
 "nbformat_minor": 5
}
