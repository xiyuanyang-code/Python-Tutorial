{
 "cells": [
  {
   "cell_type": "markdown",
   "metadata": {},
   "source": [
    "# Templates: fonts"
   ]
  },
  {
   "cell_type": "code",
   "execution_count": null,
   "metadata": {},
   "outputs": [],
   "source": [
    "# Preliminaries\n",
    "import numpy as np\n",
    "import matplotlib.pyplot as plt\n",
    "from scipy.stats import norm, entropy\n",
    "from matplotlib.font_manager import FontProperties"
   ]
  },
  {
   "cell_type": "markdown",
   "metadata": {},
   "source": [
    "## Before setting font"
   ]
  },
  {
   "cell_type": "code",
   "execution_count": null,
   "metadata": {},
   "outputs": [],
   "source": [
    "np.random.seed(2024)\n",
    "\n",
    "# Generating data\n",
    "X = np.linspace(0, 10 ,5000)\n",
    "\n",
    "# Define the linear relation\n",
    "# The relation: y = k * x + b\n",
    "k = 2.0\n",
    "b = 2.0\n",
    "\n",
    "# Generating the true value of Y\n",
    "Y_true = k * X + b\n",
    "\n",
    "# Adding noise\n",
    "noise = np.random.normal(0, 3, size=Y_true.shape)\n",
    "Y_noise = Y_true + noise\n",
    "\n",
    "# Plotting\n",
    "plt.figure(figsize=(10, 6))\n",
    "plt.scatter(x=X, y=Y_noise, color='red', label='Noisy data', alpha=0.3, s=5)\n",
    "# plt.plot(X, Y_true, color='blue', label=\"Real Data\", linewidth=3)\n",
    "plt.title(\"Linear Relations with noise\")\n",
    "plt.xlabel(\"X values\")\n",
    "plt.ylabel(\"Y values (with noise)\")\n",
    "plt.legend()\n",
    "plt.show()\n",
    "plt.close()"
   ]
  },
  {
   "cell_type": "markdown",
   "metadata": {},
   "source": [
    "## How to set font"
   ]
  },
  {
   "cell_type": "markdown",
   "metadata": {},
   "source": [
    "All the operations below are for **Linux** (or **WSL**) users, if you have Windows operating systems, I strongly recommend you to install WSL in your computer!"
   ]
  },
  {
   "cell_type": "markdown",
   "metadata": {},
   "source": [
    "Firstly, use this command to check default type in your system."
   ]
  },
  {
   "cell_type": "code",
   "execution_count": null,
   "metadata": {},
   "outputs": [],
   "source": [
    "# Print the default font family\n",
    "print(plt.rcParams['font.family'])"
   ]
  },
  {
   "cell_type": "markdown",
   "metadata": {},
   "source": [
    "Secondly, you can use the command below to check **all fonts available** in your operating system."
   ]
  },
  {
   "cell_type": "code",
   "execution_count": null,
   "metadata": {},
   "outputs": [],
   "source": [
    "import matplotlib.font_manager as fm\n",
    "\n",
    "# Find all system fonts\n",
    "font_paths = fm.findSystemFonts(fontpaths=None)\n",
    "\n",
    "# Print the list of available font paths\n",
    "for font in font_paths:\n",
    "    print(font)"
   ]
  },
  {
   "cell_type": "markdown",
   "metadata": {},
   "source": [
    "My output: ['sans-serif']"
   ]
  },
  {
   "cell_type": "markdown",
   "metadata": {},
   "source": [
    "You can search all the fonts you like, but it's time-consuming. In this tutorial, I only like to introduce **two types** of fonts that it's most frequently used by myself: **georgia** (English) and **songti** (Chinese).\n",
    "\n",
    "All the demonstrations are based on these two fonts."
   ]
  },
  {
   "cell_type": "code",
   "execution_count": null,
   "metadata": {},
   "outputs": [],
   "source": [
    "# Check whether the fonts available is included in the list:\n",
    "!fc-list | grep -i \"songti\"\n",
    "!fc-list | grep -i \"georgia\""
   ]
  },
  {
   "cell_type": "markdown",
   "metadata": {},
   "source": [
    "If you can see some outputs like the contents shown below (my contents):\n",
    "\n",
    "```bash\n",
    "/home/xiyuanyang/.local/share/fonts/songti.ttc: STSong:style=Regular,標準體,Ordinær,Normal,Normaali,Regolare,レギュラー,일반체,Regulier,Обычный,常规体\n",
    "/home/xiyuanyang/.local/share/fonts/songti.ttc: Songti SC,宋體\\-簡,宋体\\-简:style=Regular,標準體,常规体\n",
    "/home/xiyuanyang/.local/share/fonts/songti.ttc: Songti SC,宋體\\-簡,宋体\\-简:style=Black,黑體,黑体\n",
    "/home/xiyuanyang/.local/share/fonts/songti.ttc: Songti TC,宋體\\-繁,宋体\\-繁:style=Regular,標準體,常规体\n",
    "/home/xiyuanyang/.local/share/fonts/songti.ttc: Songti TC,宋體\\-繁,宋体\\-繁:style=Bold,粗體,粗体\n",
    "/home/xiyuanyang/.local/share/fonts/songti.ttc: Songti SC,宋體\\-簡,宋体\\-简:style=Bold,粗體,粗体\n",
    "/home/xiyuanyang/.local/share/fonts/songti.ttc: Songti TC,宋體\\-繁,宋体\\-繁:style=Light,細體,细体\n",
    "/home/xiyuanyang/.local/share/fonts/songti.ttc: Songti SC,宋體\\-簡,宋体\\-简:style=Light,細體,细体\n",
    "/home/xiyuanyang/.local/share/fonts/georgia.ttf: Georgia:style=Regular,Normal,obyčejné,Standard,Κανονικά,Normaali,Normál,Normale,Standaard,Normalny,Обычный,Normálne,Navadno,Arrunta\n",
    "```\n",
    "\n",
    "If you can see some files names `songti.ttc` and `georgia.ttf`, then means that you have installed these fonts successfully!"
   ]
  },
  {
   "cell_type": "markdown",
   "metadata": {},
   "source": [
    "### Not successfully? (Skip optinally)"
   ]
  },
  {
   "cell_type": "markdown",
   "metadata": {},
   "source": [
    "Then **you need to install fonts munually**. You can google it for getting fonts packages like `songti.ttc`."
   ]
  },
  {
   "cell_type": "code",
   "execution_count": null,
   "metadata": {},
   "outputs": [],
   "source": [
    "!cd ~/.local/share/\n",
    "\n",
    "# create directory to store fonts\n",
    "!mkdir fonts\n",
    "\n",
    "# Remember to change to your own locations!\n",
    "!mv ~/songti.ttc .\n",
    "\n",
    "# Update cache\n",
    "!fc-cache -fv"
   ]
  },
  {
   "cell_type": "markdown",
   "metadata": {},
   "source": [
    "After operating these commands, check by using `fc-list` command again. If you can see the target font, just skip to the next part!"
   ]
  },
  {
   "cell_type": "markdown",
   "metadata": {},
   "source": [
    "### Installed successfully"
   ]
  },
  {
   "cell_type": "markdown",
   "metadata": {},
   "source": [
    "Add these three commands in your python scripts, and you can then use the font freely in your python scripts!"
   ]
  },
  {
   "cell_type": "code",
   "execution_count": null,
   "metadata": {},
   "outputs": [],
   "source": [
    "plt.rcParams['font.family'] = 'Serif'\n",
    "plt.rcParams['font.size'] = 12\n",
    "font = FontProperties(fname=\"/home/xiyuanyang/.local/share/fonts/songti.ttc\")"
   ]
  },
  {
   "cell_type": "markdown",
   "metadata": {},
   "source": [
    "## After setting font"
   ]
  },
  {
   "cell_type": "code",
   "execution_count": null,
   "metadata": {},
   "outputs": [],
   "source": [
    "plt.rcParams['font.family'] = 'Serif'\n",
    "plt.rcParams['font.size'] = 12\n",
    "font = FontProperties(fname=\"/home/xiyuanyang/.local/share/fonts/georgia.ttf\")\n",
    "# Example\n",
    "np.random.seed(2024)\n",
    "\n",
    "# Generating data\n",
    "X = np.linspace(0, 10 ,5000)\n",
    "\n",
    "# Define the linear relation\n",
    "# The relation: y = k * x + b\n",
    "k = 2.0\n",
    "b = 2.0\n",
    "\n",
    "# Generating the true value of Y\n",
    "Y_true = k * X + b\n",
    "\n",
    "# Adding noise\n",
    "noise = np.random.normal(0, 3, size=Y_true.shape)\n",
    "Y_noise = Y_true + noise\n",
    "\n",
    "# Plotting\n",
    "plt.figure(figsize=(10, 6))\n",
    "plt.scatter(x=X, y=Y_noise, color='red', label='Noisy data', alpha=0.3, s=5)\n",
    "# plt.plot(X, Y_true, color='blue', label=\"Real Data\", linewidth=3)\n",
    "plt.title(\"Linear Relations with noise\")\n",
    "plt.xlabel(\"X values\")\n",
    "plt.ylabel(\"Y values (with noise)\")\n",
    "plt.legend()\n",
    "plt.show()\n",
    "plt.close()"
   ]
  },
  {
   "cell_type": "markdown",
   "metadata": {},
   "source": [
    "## Getting into the functions"
   ]
  },
  {
   "cell_type": "code",
   "execution_count": null,
   "metadata": {},
   "outputs": [],
   "source": [
    "def draw_scatter(X=[1,2,3,4], y=[10,20,-10,50], fontsize=12, filepath=\"figure/my images.png\",\n",
    "                title=\"My title\", lable=\"my label\", x_lable=\"Xlable\", y_lable=\"Ylabel\", \n",
    "                ):\n",
    "    # import modules\n",
    "\n",
    "    # Modifying the backend of matplotlib\n",
    "    import matplotlib as mlp\n",
    "    mlp.use(\"Agg\")\n",
    "\n",
    "    import matplotlib.pyplot as plt\n",
    "    import numpy as np\n",
    "    from matplotlib.font_manager import FontProperties\n",
    "\n",
    "    plt.rcParams['font.family'] = 'Serif'\n",
    "    plt.rcParams['font.size'] = fontsize\n",
    "    font_geogria = FontProperties(fname=\"/home/xiyuanyang/.local/share/fonts/georgia.ttf\")\n",
    "    font_sonti = FontProperties(fname=\"/home/xiyuanyang/.local/share/fonts/songti.ttc\")\n",
    "\n",
    "    # Plotting\n",
    "    plt.figure(figsize=(10, 6))\n",
    "    plt.scatter(x=X, y=y, color='red', label=lable, alpha=0.3, s=5)\n",
    "    plt.title(title, fontproperties = font_geogria, fontsize = 18)\n",
    "    plt.xlabel(x_lable)\n",
    "    plt.ylabel(y_lable)\n",
    "    plt.legend()\n",
    "\n",
    "    # ! Attention, suggest you to use the absolute path.\n",
    "    plt.savefig(filepath)\n",
    "    plt.close()\n"
   ]
  }
 ],
 "metadata": {
  "kernelspec": {
   "display_name": "base",
   "language": "python",
   "name": "python3"
  },
  "language_info": {
   "codemirror_mode": {
    "name": "ipython",
    "version": 3
   },
   "file_extension": ".py",
   "mimetype": "text/x-python",
   "name": "python",
   "nbconvert_exporter": "python",
   "pygments_lexer": "ipython3",
   "version": "3.12.7"
  }
 },
 "nbformat": 4,
 "nbformat_minor": 2
}
