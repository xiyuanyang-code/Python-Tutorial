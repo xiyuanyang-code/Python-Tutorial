{
 "cells": [
  {
   "cell_type": "markdown",
   "id": "bff3f3a1",
   "metadata": {},
   "source": [
    "# File management in Python\n",
    "\n",
    "## Basic Usage\n",
    "\n",
    "- We will use `with open(file, mode, ...) as file` for the command. \n",
    "\n",
    "- `Tab` is to be noticed.\n",
    "\n",
    "\n",
    "![Mode tutorial](https://s1.imagehub.cc/images/2025/07/20/758ff4a8776c6eda15751a0fe84daebb.png)\n",
    "\n",
    "For the encoding part: `encoding = 'utf-8'`."
   ]
  },
  {
   "cell_type": "code",
   "execution_count": 1,
   "id": "e7653ae5",
   "metadata": {},
   "outputs": [],
   "source": [
    "with open(\"test.txt\", \"w\") as file:\n",
    "    file.write(\"Hello world\")\n",
    "    file.close()"
   ]
  }
 ],
 "metadata": {
  "kernelspec": {
   "display_name": "base",
   "language": "python",
   "name": "python3"
  },
  "language_info": {
   "codemirror_mode": {
    "name": "ipython",
    "version": 3
   },
   "file_extension": ".py",
   "mimetype": "text/x-python",
   "name": "python",
   "nbconvert_exporter": "python",
   "pygments_lexer": "ipython3",
   "version": "3.12.2"
  }
 },
 "nbformat": 4,
 "nbformat_minor": 5
}
